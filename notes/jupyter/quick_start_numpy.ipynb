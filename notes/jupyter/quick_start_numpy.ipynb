{
 "cells": [
  {
   "cell_type": "code",
   "execution_count": 20,
   "metadata": {},
   "outputs": [
    {
     "name": "stdout",
     "output_type": "stream",
     "text": [
      "a = \n",
      "[[ 0  1  2  3  4]\n",
      " [ 5  6  7  8  9]\n",
      " [10 11 12 13 14]], \n",
      "type(a) = <class 'numpy.ndarray'>.\n",
      "a.shape = (3, 5), a.ndim = 2.\n",
      "a.itemsize = 8, a.size = 15, len(a) = 3.\n"
     ]
    }
   ],
   "source": [
    "import numpy as np\n",
    "a = np.arange(15).reshape(3, 5)\n",
    "print(\"a = \\n{0}, \\ntype(a) = {1}.\".format(a, type(a)))\n",
    "print(\"a.shape = {0}, a.ndim = {1}.\".format(a.shape, a.ndim))\n",
    "print(\"a.itemsize = {0}, a.size = {1}, len(a) = {2}.\".format(a.itemsize, a.size, len(a)))"
   ]
  },
  {
   "cell_type": "code",
   "execution_count": 24,
   "metadata": {},
   "outputs": [
    {
     "data": {
      "text/plain": [
       "array([[1, 2, 3],\n",
       "       [4, 5, 6]])"
      ]
     },
     "execution_count": 24,
     "metadata": {},
     "output_type": "execute_result"
    }
   ],
   "source": [
    "b = np.array([(1, 2, 3), (4, 5, 6)])\n",
    "assert b.shape == (2, 3)\n",
    "b"
   ]
  },
  {
   "cell_type": "code",
   "execution_count": 25,
   "metadata": {},
   "outputs": [
    {
     "data": {
      "text/plain": [
       "array([[ 1.+0.j,  2.+0.j],\n",
       "       [ 3.+0.j,  4.+0.j]])"
      ]
     },
     "execution_count": 25,
     "metadata": {},
     "output_type": "execute_result"
    }
   ],
   "source": [
    "c = np.array([[1,2], [3,4]], dtype=complex)\n",
    "c"
   ]
  },
  {
   "cell_type": "code",
   "execution_count": 45,
   "metadata": {},
   "outputs": [
    {
     "name": "stdout",
     "output_type": "stream",
     "text": [
      "np.empty(shape) = \n",
      "[[ 0.  0.  0.]\n",
      " [ 0.  0.  0.]].\n",
      "np.empty_like(x) = \n",
      "[[ 0.  0.  0.]\n",
      " [ 0.  0.  0.]].\n",
      "np.ones(shape) = \n",
      "[[ 1.  1.  1.]\n",
      " [ 1.  1.  1.]].\n",
      "np.ones_like(y) = \n",
      "[[ 1.  1.  1.]\n",
      " [ 1.  1.  1.]].\n",
      "np.zeros(shape) = \n",
      "[[ 0.  0.  0.]\n",
      " [ 0.  0.  0.]].\n",
      "np.zeros_like(z) = \n",
      "[[ 0.  0.  0.]\n",
      " [ 0.  0.  0.]].\n"
     ]
    }
   ],
   "source": [
    "shape = (2, 3)\n",
    "x = np.empty(shape)\n",
    "print(\"np.empty(shape) = \\n{0}.\".format(x))\n",
    "print(\"np.empty_like(x) = \\n{0}.\".format(np.empty_like(x)))\n",
    "\n",
    "y = np.ones(shape)\n",
    "print(\"np.ones(shape) = \\n{0}.\".format(y))\n",
    "print(\"np.ones_like(y) = \\n{0}.\".format(np.ones_like(y)))\n",
    "\n",
    "z = np.zeros(shape)\n",
    "print(\"np.zeros(shape) = \\n{0}.\".format(z))\n",
    "print(\"np.zeros_like(z) = \\n{0}.\".format(np.zeros_like(z)))"
   ]
  },
  {
   "cell_type": "code",
   "execution_count": 42,
   "metadata": {},
   "outputs": [
    {
     "name": "stdout",
     "output_type": "stream",
     "text": [
      "np.linspace(0, 9, 10) = \n",
      "[ 0.  1.  2.  3.  4.  5.  6.  7.  8.  9.].\n",
      "np.arange(0, 10, 1) = \n",
      "[ 0.  1.  2.  3.  4.  5.  6.  7.  8.  9.].\n"
     ]
    }
   ],
   "source": [
    "print(\"np.linspace(0, 9, 10) = \\n{0}.\".format(np.linspace(0, 9, 10)))\n",
    "print(\"np.arange(0, 10, 1) = \\n{0}.\".format(np.arange(0, 10, 1, np.float)))"
   ]
  },
  {
   "cell_type": "code",
   "execution_count": 71,
   "metadata": {},
   "outputs": [],
   "source": [
    "a = np.array([20,30,40])\n",
    "b = np.arange(3)\n",
    "assert np.array_equal([20, 29, 38], a - b)\n",
    "assert np.array_equal([20, 31, 42], a + b)\n",
    "assert np.array_equal([0, 1, 4], b**2)\n",
    "assert np.array_equal([0, 1, 8], b**3)\n",
    "assert np.array_equal([True, False, False], a < 30)"
   ]
  },
  {
   "cell_type": "code",
   "execution_count": 60,
   "metadata": {},
   "outputs": [
    {
     "name": "stdout",
     "output_type": "stream",
     "text": [
      "A*B = \n",
      "[[2 0]\n",
      " [0 4]]\n",
      "\n",
      "A.dot(B) = \n",
      "[[5 4]\n",
      " [3 4]]\n",
      "\n",
      "np.dot(A, B) = \n",
      "[[5 4]\n",
      " [3 4]]\n",
      "\n"
     ]
    }
   ],
   "source": [
    "A = np.array([[1, 1], [0, 1]])\n",
    "B = np.array([[2, 0], [3, 4]])\n",
    "print(\"A*B = \\n{0}\\n\".format(A*B))\n",
    "print(\"A.dot(B) = \\n{0}\\n\".format(A.dot(B)))\n",
    "print(\"np.dot(A, B) = \\n{0}\\n\".format(np.dot(A, B)))"
   ]
  },
  {
   "cell_type": "code",
   "execution_count": 68,
   "metadata": {
    "scrolled": true
   },
   "outputs": [
    {
     "name": "stdout",
     "output_type": "stream",
     "text": [
      "a = \n",
      "[[ 0  1  2  3]\n",
      " [ 4  5  6  7]\n",
      " [ 8  9 10 11]]\n",
      "\n",
      "a.sum(axis=0) = \n",
      "[12 15 18 21]\n",
      "\n",
      "a.sum(axis=1) = \n",
      "[ 6 22 38]\n",
      "\n",
      "a.max(axis=0) = \n",
      "[ 8  9 10 11]\n",
      "\n",
      "a.min(axis=0) = \n",
      "[0 1 2 3]\n",
      "\n",
      "a.cumsum(axis=1) = \n",
      "[[ 0  1  3  6]\n",
      " [ 4  9 15 22]\n",
      " [ 8 17 27 38]]\n",
      "\n"
     ]
    }
   ],
   "source": [
    "a = np.arange(12).reshape(3, 4)\n",
    "print(\"a = \\n{0}\\n\".format(a))\n",
    "\n",
    "print(\"a.sum(axis=0) = \\n{0}\\n\".format(a.sum(axis=0)))\n",
    "print(\"a.sum(axis=1) = \\n{0}\\n\".format(a.sum(axis=1)))\n",
    "print(\"a.max(axis=0) = \\n{0}\\n\".format(a.max(axis=0)))\n",
    "print(\"a.min(axis=0) = \\n{0}\\n\".format(a.min(axis=0)))\n",
    "print(\"a.cumsum(axis=1) = \\n{0}\\n\".format(a.cumsum(axis=1)))"
   ]
  },
  {
   "cell_type": "code",
   "execution_count": 70,
   "metadata": {},
   "outputs": [
    {
     "name": "stdout",
     "output_type": "stream",
     "text": [
      "np.exp(b) = \n",
      "[ 1.          2.71828183  7.3890561 ]\n",
      "\n",
      "np.sqrt(b) = \n",
      "[ 0.          1.          1.41421356]\n",
      "\n"
     ]
    }
   ],
   "source": [
    "b = np.arange(3)\n",
    "print(\"np.exp(b) = \\n{0}\\n\".format(np.exp(b)))\n",
    "print(\"np.sqrt(b) = \\n{0}\\n\".format(np.sqrt(b)))"
   ]
  },
  {
   "cell_type": "code",
   "execution_count": 88,
   "metadata": {},
   "outputs": [
    {
     "name": "stdout",
     "output_type": "stream",
     "text": [
      "b = \n",
      "[[  0.   1.   2.   3.]\n",
      " [ 10.  11.  12.  13.]\n",
      " [ 20.  21.  22.  23.]\n",
      " [ 30.  31.  32.  33.]\n",
      " [ 40.  41.  42.  43.]]\n",
      "\n",
      "c = \n",
      "[[  0.   1.   2.   3.  10.]\n",
      " [ 11.  12.  13.  20.  21.]\n",
      " [ 22.  23.  30.  31.  32.]\n",
      " [ 33.  40.  41.  42.  43.]]\n",
      "\n",
      "b.T = \n",
      "[[  0.  10.  20.  30.  40.]\n",
      " [  1.  11.  21.  31.  41.]\n",
      " [  2.  12.  22.  32.  42.]\n",
      " [  3.  13.  23.  33.  43.]]\n",
      "\n"
     ]
    },
    {
     "data": {
      "text/plain": [
       "array([  0.,   1.,   2.,   3.,  10.,  11.,  12.,  13.,  20.,  21.,  22.,\n",
       "        23.,  30.,  31.,  32.,  33.,  40.,  41.,  42.,  43.])"
      ]
     },
     "execution_count": 88,
     "metadata": {},
     "output_type": "execute_result"
    }
   ],
   "source": [
    "def f(x, y):\n",
    "    return 10*x+y\n",
    "\n",
    "b = np.fromfunction(f, (5, 4))\n",
    "print(\"b = \\n{0}\\n\".format(b))\n",
    "assert 22 == b[2, 2]\n",
    "assert np.array_equal([1, 11, 21, 31, 41], b[0:5, 1])\n",
    "assert np.array_equal(b[:,1], b[0:5, 1])\n",
    "assert np.array_equal([1, 21, 41], b[0:5:2, 1])\n",
    "assert np.array_equal([40, 41, 42, 43], b[-1])\n",
    "c = b.reshape(4, 5)\n",
    "print(\"c = \\n{0}\\n\".format(c))\n",
    "print(\"b.T = \\n{0}\\n\".format(b.T))\n",
    "b.ravel()"
   ]
  },
  {
   "cell_type": "code",
   "execution_count": 101,
   "metadata": {},
   "outputs": [
    {
     "name": "stdout",
     "output_type": "stream",
     "text": [
      "np.vstack(a, b) = \n",
      "[[0 1]\n",
      " [2 3]\n",
      " [6 7]\n",
      " [8 9]]\n",
      "\n",
      "np.hstack(a, b) = \n",
      "[[0 1 6 7]\n",
      " [2 3 8 9]]\n",
      "\n",
      "np.column_stack(a, b) = \n",
      "[[0 1 6 7]\n",
      " [2 3 8 9]]\n",
      "\n",
      "np.row_stack(a, b) = \n",
      "[[0 1]\n",
      " [2 3]\n",
      " [6 7]\n",
      " [8 9]]\n",
      "\n"
     ]
    }
   ],
   "source": [
    "a = np.array([[0, 1], [2, 3]])\n",
    "b = np.array([[6, 7], [8, 9]])\n",
    "\n",
    "print(\"np.vstack(a, b) = \\n{0}\\n\".format(np.vstack((a, b))))\n",
    "print(\"np.hstack(a, b) = \\n{0}\\n\".format(np.hstack((a, b))))\n",
    "print(\"np.column_stack(a, b) = \\n{0}\\n\".format(np.column_stack((a, b))))\n",
    "print(\"np.row_stack(a, b) = \\n{0}\\n\".format(np.row_stack((a, b))))"
   ]
  },
  {
   "cell_type": "code",
   "execution_count": 104,
   "metadata": {},
   "outputs": [
    {
     "name": "stdout",
     "output_type": "stream",
     "text": [
      "a[:,newaxis] = \n",
      "[[0]\n",
      " [1]\n",
      " [2]]\n",
      "\n",
      "a[newaxis] = \n",
      "[[0 1 2]]\n",
      "\n"
     ]
    }
   ],
   "source": [
    "from numpy import newaxis\n",
    "a = np.array([0, 1, 2])\n",
    "print(\"a[:,newaxis] = \\n{0}\\n\".format(a[:,newaxis]))\n",
    "print(\"a[newaxis] = \\n{0}\\n\".format(a[newaxis]))"
   ]
  },
  {
   "cell_type": "code",
   "execution_count": 106,
   "metadata": {},
   "outputs": [
    {
     "name": "stdout",
     "output_type": "stream",
     "text": [
      "np.r_[1:4,0,4] = \n",
      "[1 2 3 0 4]\n",
      "\n",
      "np.c_[v1, v2] = \n",
      "[[1 6]\n",
      " [2 7]]\n",
      "\n"
     ]
    }
   ],
   "source": [
    "print(\"np.r_[1:4,0,4] = \\n{0}\\n\".format(np.r_[1:4,0,4]))\n",
    "v1, v2 = [1, 2], [6, 7]\n",
    "print(\"np.c_[v1, v2] = \\n{0}\\n\".format(np.c_[v1, v2]))"
   ]
  },
  {
   "cell_type": "code",
   "execution_count": 118,
   "metadata": {},
   "outputs": [],
   "source": [
    "a = np.arange(10) ** 2\n",
    "assert np.array_equal([1, 9, 25], a[[1, 3, 5]])\n",
    "j = np.array([[1, 3], [5, 7]])  \n",
    "assert np.array_equal([[1, 9], [25, 49]], a[j])"
   ]
  },
  {
   "cell_type": "code",
   "execution_count": 122,
   "metadata": {},
   "outputs": [
    {
     "data": {
      "text/plain": [
       "<matplotlib.image.AxesImage at 0x110dd3390>"
      ]
     },
     "execution_count": 122,
     "metadata": {},
     "output_type": "execute_result"
    },
    {
     "data": {
      "image/png": "[encoded data removed]",
      "text/plain": [
       "<matplotlib.figure.Figure at 0x1083ebb70>"
      ]
     },
     "metadata": {},
     "output_type": "display_data"
    }
   ],
   "source": [
    "%matplotlib inline\n",
    "import matplotlib.pyplot as plt\n",
    "def mandelbrot( h,w, maxit=20 ):\n",
    "    \"\"\"Returns an image of the Mandelbrot fractal of size (h,w).\"\"\"\n",
    "    y,x = np.ogrid[ -1.4:1.4:h*1j, -2:0.8:w*1j ]\n",
    "    c = x+y*1j\n",
    "    z = c\n",
    "    divtime = maxit + np.zeros(z.shape, dtype=int)\n",
    "    \n",
    "    for i in range(maxit):\n",
    "        z = z**2 + c\n",
    "        diverge = z*np.conj(z) > 2**2         # who is diverging\n",
    "        div_now = diverge & (divtime==maxit)  # who is diverging now\n",
    "        divtime[div_now] = i                  # note when\n",
    "        z[diverge] = 2                        # avoid diverging too much\n",
    "\n",
    "    return divtime\n",
    "\n",
    "plt.imshow(mandelbrot(400,400))"
   ]
  },
  {
   "cell_type": "code",
   "execution_count": null,
   "metadata": {
    "collapsed": true
   },
   "outputs": [],
   "source": []
  }
 ],
 "metadata": {
  "kernelspec": {
   "display_name": "Python 3",
   "language": "python",
   "name": "python3"
  },
  "language_info": {
   "codemirror_mode": {
    "name": "ipython",
    "version": 3
   },
   "file_extension": ".py",
   "mimetype": "text/x-python",
   "name": "python",
   "nbconvert_exporter": "python",
   "pygments_lexer": "ipython3",
   "version": "3.6.3"
  }
 },
 "nbformat": 4,
 "nbformat_minor": 2
}
