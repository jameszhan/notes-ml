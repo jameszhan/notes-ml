{
 "cells": [
  {
   "cell_type": "markdown",
   "metadata": {},
   "source": [
    "## 数据库客户端\n",
    "\n",
    "### TeamSQL\n",
    "\n",
    "跨平台 SQL 客户端\n",
    "\n",
    "```bash\n",
    "brew cask install teamsql\n",
    "```"
   ]
  },
  {
   "cell_type": "markdown",
   "metadata": {},
   "source": [
    "## Markdown 工具\n",
    "\n",
    "### typora \n",
    "\n",
    "```bash\n",
    "brew cask install typora\n",
    "```\n",
    "\n",
    "[typora](https://typora.io/) 可以方便预览 markdown 文件，支持 `Latex`。\n",
    "\n",
    "\n",
    "### MacDown\n",
    "\n",
    "```bash\n",
    "brew cask install macdown\n",
    "```"
   ]
  },
  {
   "cell_type": "code",
   "execution_count": null,
   "metadata": {
    "collapsed": true
   },
   "outputs": [],
   "source": []
  }
 ],
 "metadata": {
  "kernelspec": {
   "display_name": "Python [default]",
   "language": "python",
   "name": "python3"
  },
  "language_info": {
   "codemirror_mode": {
    "name": "ipython",
    "version": 3
   },
   "file_extension": ".py",
   "mimetype": "text/x-python",
   "name": "python",
   "nbconvert_exporter": "python",
   "pygments_lexer": "ipython3",
   "version": "3.6.3"
  }
 },
 "nbformat": 4,
 "nbformat_minor": 2
}
