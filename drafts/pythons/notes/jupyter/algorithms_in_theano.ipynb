{
 "cells": [
  {
   "cell_type": "markdown",
   "metadata": {},
   "source": [
    "## Linear Regression\n",
    "\n",
    "$$ \\bar{y} = wx + b $$"
   ]
  },
  {
   "cell_type": "code",
   "execution_count": 1,
   "metadata": {
    "collapsed": true
   },
   "outputs": [],
   "source": [
    "%matplotlib inline\n",
    "from matplotlib import pyplot as plt\n",
    "import numpy as np\n",
    "import theano\n",
    "from theano import tensor as T"
   ]
  },
  {
   "cell_type": "code",
   "execution_count": 2,
   "metadata": {},
   "outputs": [
    {
     "data": {
      "text/plain": [
       "<matplotlib.collections.PathCollection at 0x11195ac18>"
      ]
     },
     "execution_count": 2,
     "metadata": {},
     "output_type": "execute_result"
    },
    {
     "data": {
      "image/png": "[encoded data removed]",
      "text/plain": [
       "<matplotlib.figure.Figure at 0x1118fb5f8>"
      ]
     },
     "metadata": {},
     "output_type": "display_data"
    }
   ],
   "source": [
    "train_X = np.linspace(-1, 1, 101)\n",
    "train_Y = 2 * train_X + 1 + np.random.randn(train_X.size) * 0.33\n",
    "plt.scatter(train_X, train_Y)"
   ]
  },
  {
   "cell_type": "code",
   "execution_count": 3,
   "metadata": {
    "collapsed": true
   },
   "outputs": [],
   "source": [
    "X, Y = T.scalar(), T.scalar()\n",
    "X.name, Y.name = 'x', 'y'\n",
    "\n",
    "def linear_model(X, w, b):\n",
    "    return X * w + b"
   ]
  },
  {
   "cell_type": "markdown",
   "metadata": {},
   "source": [
    "损失函数： $ C = \\left|\\bar{y} - y \\right|^2 $\n",
    "\n",
    "我们可以使用梯度下降法来迭代参数 w,b 的值，为此，我们将 w 和 b 设成共享变量："
   ]
  },
  {
   "cell_type": "code",
   "execution_count": 5,
   "metadata": {},
   "outputs": [
    {
     "data": {
      "text/plain": [
       "'((x * w) + b)'"
      ]
     },
     "execution_count": 5,
     "metadata": {},
     "output_type": "execute_result"
    }
   ],
   "source": [
    "w = theano.shared(np.asarray(0., dtype=theano.config.floatX))\n",
    "w.name = 'w'\n",
    "b = theano.shared(np.asarray(0., dtype=theano.config.floatX))\n",
    "b.name = 'b'\n",
    "\n",
    "Y_bar = linear_model(X, w, b)\n",
    "theano.pp(Y_bar)"
   ]
  },
  {
   "cell_type": "code",
   "execution_count": 6,
   "metadata": {
    "collapsed": true
   },
   "outputs": [],
   "source": [
    "cost = T.mean(T.sqr(Y_bar - Y))\n",
    "grads = T.grad(cost=cost, wrt=[w, b])"
   ]
  },
  {
   "cell_type": "code",
   "execution_count": 8,
   "metadata": {},
   "outputs": [],
   "source": [
    "lr = 0.01\n",
    "updates = [[w, w - grads[0] * lr],\n",
    "           [b, b - grads[1] * lr]]\n",
    "\n",
    "train_model = theano.function(inputs=[X,Y],\n",
    "                              outputs=cost,\n",
    "                              updates=updates,\n",
    "                              allow_input_downcast=True)\n",
    "\n",
    "for i in range(100):\n",
    "    for x, y in zip(train_X, train_Y):\n",
    "        train_model(x, y)"
   ]
  },
  {
   "cell_type": "code",
   "execution_count": 11,
   "metadata": {},
   "outputs": [
    {
     "name": "stdout",
     "output_type": "stream",
     "text": [
      "2.0960926268346407\n",
      "0.9833693080320884\n"
     ]
    },
    {
     "data": {
      "text/plain": [
       "[<matplotlib.lines.Line2D at 0x11199a2b0>]"
      ]
     },
     "execution_count": 11,
     "metadata": {},
     "output_type": "execute_result"
    },
    {
     "data": {
      "image/png": "[encoded data removed]",
      "text/plain": [
       "<matplotlib.figure.Figure at 0x111a9d128>"
      ]
     },
     "metadata": {},
     "output_type": "display_data"
    }
   ],
   "source": [
    "print(w.get_value()) \n",
    "print(b.get_value())\n",
    "\n",
    "plt.scatter(train_X, train_Y)\n",
    "plt.plot(train_X, w.get_value() * train_X + b.get_value(), 'r')"
   ]
  },
  {
   "cell_type": "markdown",
   "metadata": {},
   "source": [
    "## Logistic Regression\n",
    "\n",
    "$$ s(x) = \\frac{1}{1 + e^{-x}} = \\frac{1 + tanh\\left(\\frac{x}{2}\\right)}{2} $$"
   ]
  },
  {
   "cell_type": "code",
   "execution_count": 12,
   "metadata": {
    "collapsed": true
   },
   "outputs": [],
   "source": [
    "rng = np.random\n",
    "\n",
    "# 数据大小和规模\n",
    "N = 400\n",
    "feats = 784\n",
    "\n",
    "# D = (X, Y)\n",
    "D = (rng.randn(N, feats), rng.randint(size=N, low=0, high=2))"
   ]
  },
  {
   "cell_type": "code",
   "execution_count": 13,
   "metadata": {
    "collapsed": true
   },
   "outputs": [],
   "source": [
    "x = T.matrix('x')\n",
    "y = T.vector('y')\n",
    "\n",
    "# 要更新的变量：\n",
    "w = theano.shared(rng.randn(feats), name='w')\n",
    "b = theano.shared(0., name='b')"
   ]
  },
  {
   "cell_type": "code",
   "execution_count": 14,
   "metadata": {
    "collapsed": true
   },
   "outputs": [],
   "source": [
    "h = 1 / (1 + T.exp(-T.dot(x, w) - b))\n",
    "prediction = h > 0.5"
   ]
  },
  {
   "cell_type": "code",
   "execution_count": 15,
   "metadata": {
    "collapsed": true
   },
   "outputs": [],
   "source": [
    "cost = - T.mean(y * T.log(h) + (1 - y) * T.log(1 - h)) + 0.01 * T.sum(w ** 2)  # 正则项，防止过拟合\n",
    "gw, gb = T.grad(cost, [w, b])"
   ]
  },
  {
   "cell_type": "code",
   "execution_count": 16,
   "metadata": {},
   "outputs": [
    {
     "name": "stdout",
     "output_type": "stream",
     "text": [
      "iter     0, error nan\n",
      "iter  1000, error 0.20916386518319272\n",
      "iter  2000, error 0.12385585775631414\n",
      "iter  3000, error 0.12256679622266706\n",
      "iter  4000, error 0.12254240274449477\n",
      "iter  5000, error 0.12254162133721462\n",
      "iter  6000, error 0.12254152989301592\n",
      "iter  7000, error 0.12254151063149532\n",
      "iter  8000, error 0.12254150627087208\n",
      "iter  9000, error 0.12254150527768518\n",
      "iter 10000, error 0.12254150505136419\n"
     ]
    }
   ],
   "source": [
    "train = theano.function(inputs=[x, y],\n",
    "                        outputs=cost,\n",
    "                        updates=[[w, w - 0.1 * gw], [b, b - 0.1 * gb]], \n",
    "                        allow_input_downcast=True)\n",
    "\n",
    "predict = theano.function(inputs=[x],\n",
    "                          outputs=prediction,\n",
    "                          allow_input_downcast=True)\n",
    "\n",
    "for i in range(10001):\n",
    "    err = train(D[0], D[1])\n",
    "    if i % 1000 == 0:\n",
    "        print('iter {0:5d}, error {1}'.format(i, err))"
   ]
  },
  {
   "cell_type": "code",
   "execution_count": 18,
   "metadata": {},
   "outputs": [
    {
     "data": {
      "text/plain": [
       "array([0, 1, 1, 0, 1, 1, 1, 0, 0, 1, 0, 1, 1, 1, 1, 0, 0, 0, 0, 0, 1, 0, 1,\n",
       "       0, 0, 0, 1, 0, 1, 0, 1, 1, 1, 0, 0, 1, 1, 0, 0, 1, 0, 0, 0, 0, 0, 0,\n",
       "       0, 0, 1, 0, 0, 1, 1, 1, 0, 0, 0, 1, 0, 0, 0, 1, 0, 1, 0, 1, 0, 0, 1,\n",
       "       0, 1, 1, 1, 0, 1, 0, 1, 1, 0, 0, 1, 1, 0, 1, 0, 0, 1, 0, 0, 1, 0, 0,\n",
       "       1, 1, 0, 0, 1, 0, 1, 0, 0, 1, 0, 0, 1, 0, 1, 0, 1, 1, 1, 1, 1, 1, 0,\n",
       "       1, 0, 1, 0, 0, 1, 1, 0, 1, 1, 0, 1, 0, 0, 0, 0, 1, 0, 0, 1, 0, 1, 1,\n",
       "       0, 1, 1, 0, 0, 0, 0, 1, 0, 1, 1, 0, 0, 1, 1, 1, 0, 1, 1, 0, 1, 0, 0,\n",
       "       1, 0, 1, 1, 0, 1, 0, 0, 1, 0, 1, 1, 1, 1, 0, 1, 1, 1, 0, 0, 0, 0, 1,\n",
       "       0, 1, 0, 1, 0, 1, 1, 0, 0, 1, 0, 0, 1, 0, 1, 1, 0, 1, 1, 1, 0, 1, 1,\n",
       "       0, 1, 0, 0, 1, 0, 0, 0, 0, 1, 1, 0, 1, 1, 1, 1, 1, 0, 1, 1, 0, 1, 0,\n",
       "       0, 1, 1, 0, 1, 0, 1, 0, 0, 1, 1, 1, 0, 0, 1, 1, 0, 0, 0, 0, 1, 0, 0,\n",
       "       0, 1, 1, 0, 0, 1, 0, 0, 1, 0, 0, 0, 0, 1, 0, 1, 0, 0, 1, 1, 1, 1, 1,\n",
       "       0, 1, 1, 0, 0, 0, 1, 1, 1, 0, 1, 1, 1, 0, 0, 1, 1, 0, 0, 0, 0, 0, 1,\n",
       "       0, 1, 1, 0, 0, 1, 1, 1, 0, 0, 0, 0, 0, 1, 1, 1, 0, 0, 1, 1, 0, 0, 1,\n",
       "       1, 1, 0, 1, 1, 1, 1, 0, 1, 1, 1, 0, 1, 1, 0, 0, 0, 1, 0, 0, 0, 1, 0,\n",
       "       0, 1, 0, 0, 1, 0, 0, 0, 1, 1, 1, 0, 0, 0, 1, 0, 1, 1, 1, 1, 1, 1, 0,\n",
       "       1, 0, 1, 0, 1, 0, 1, 0, 1, 0, 0, 1, 0, 1, 0, 0, 0, 0, 1, 1, 1, 1, 0,\n",
       "       1, 0, 1, 0, 1, 0, 0, 0, 0])"
      ]
     },
     "execution_count": 18,
     "metadata": {},
     "output_type": "execute_result"
    }
   ],
   "source": [
    "D[1]"
   ]
  },
  {
   "cell_type": "code",
   "execution_count": 20,
   "metadata": {},
   "outputs": [
    {
     "data": {
      "text/plain": [
       "array([False,  True,  True, False,  True,  True,  True, False, False,\n",
       "        True, False,  True,  True,  True,  True, False, False, False,\n",
       "       False, False,  True, False,  True, False, False, False,  True,\n",
       "       False,  True, False,  True,  True,  True, False, False,  True,\n",
       "        True, False, False,  True, False, False, False, False, False,\n",
       "       False, False, False,  True, False, False,  True,  True,  True,\n",
       "       False, False, False,  True, False, False, False,  True, False,\n",
       "        True, False,  True, False, False,  True, False,  True,  True,\n",
       "        True, False,  True, False,  True,  True, False, False,  True,\n",
       "        True, False,  True, False, False,  True, False, False,  True,\n",
       "       False, False,  True,  True, False, False,  True, False,  True,\n",
       "       False, False,  True, False, False,  True, False,  True, False,\n",
       "        True,  True,  True,  True,  True,  True, False,  True, False,\n",
       "        True, False, False,  True,  True, False,  True,  True, False,\n",
       "        True, False, False, False, False,  True, False, False,  True,\n",
       "       False,  True,  True, False,  True,  True, False, False, False,\n",
       "       False,  True, False,  True,  True, False, False,  True,  True,\n",
       "        True, False,  True,  True, False,  True, False, False,  True,\n",
       "       False,  True,  True, False,  True, False, False,  True, False,\n",
       "        True,  True,  True,  True, False,  True,  True,  True, False,\n",
       "       False, False, False,  True, False,  True, False,  True, False,\n",
       "        True,  True, False, False,  True, False, False,  True, False,\n",
       "        True,  True, False,  True,  True,  True, False,  True,  True,\n",
       "       False,  True, False, False,  True, False, False, False, False,\n",
       "        True,  True, False,  True,  True,  True,  True,  True, False,\n",
       "        True,  True, False,  True, False, False,  True,  True, False,\n",
       "        True, False,  True, False, False,  True,  True,  True, False,\n",
       "       False,  True,  True, False, False, False, False,  True, False,\n",
       "       False, False,  True,  True, False, False,  True, False, False,\n",
       "        True, False, False, False, False,  True, False,  True, False,\n",
       "       False,  True,  True,  True,  True,  True, False,  True,  True,\n",
       "       False, False, False,  True,  True,  True, False,  True,  True,\n",
       "        True, False, False,  True,  True, False, False, False, False,\n",
       "       False,  True, False,  True,  True, False, False,  True,  True,\n",
       "        True, False, False, False, False, False,  True,  True,  True,\n",
       "       False, False,  True,  True, False, False,  True,  True,  True,\n",
       "       False,  True,  True,  True,  True, False,  True,  True,  True,\n",
       "       False,  True,  True, False, False, False,  True, False, False,\n",
       "       False,  True, False, False,  True, False, False,  True, False,\n",
       "       False, False,  True,  True,  True, False, False, False,  True,\n",
       "       False,  True,  True,  True,  True,  True,  True, False,  True,\n",
       "       False,  True, False,  True, False,  True, False,  True, False,\n",
       "       False,  True, False,  True, False, False, False, False,  True,\n",
       "        True,  True,  True, False,  True, False,  True, False,  True,\n",
       "       False, False, False, False], dtype=bool)"
      ]
     },
     "execution_count": 20,
     "metadata": {},
     "output_type": "execute_result"
    }
   ],
   "source": [
    "predict(D[0])"
   ]
  },
  {
   "cell_type": "markdown",
   "metadata": {},
   "source": [
    "## Softmax Regression\n",
    "\n",
    "[MNIST 数据集](http://yann.lecun.com/exdb/mnist/) 是一个手写数字组成的数据集，现在被当作一个机器学习算法评测的基准数据集。\n",
    "\n",
    "这是一个下载并解压数据的脚本："
   ]
  },
  {
   "cell_type": "code",
   "execution_count": 49,
   "metadata": {},
   "outputs": [
    {
     "name": "stdout",
     "output_type": "stream",
     "text": [
      "Writing download_mnist.py\n"
     ]
    }
   ],
   "source": [
    "%%file download_mnist.py\n",
    "import os\n",
    "import os.path\n",
    "import urllib\n",
    "import gzip\n",
    "import shutil\n",
    "\n",
    "if not os.path.exists('mnist'):\n",
    "    os.mkdir('mnist')\n",
    "\n",
    "def download_and_gzip(name):\n",
    "    if not os.path.exists(name + '.gz'):\n",
    "        urllib.request.urlretrieve('http://yann.lecun.com/exdb/' + name + '.gz', name + '.gz')\n",
    "    if not os.path.exists(name):\n",
    "        with gzip.open(name + '.gz', 'rb') as f_in, open(name, 'wb') as f_out:\n",
    "            shutil.copyfileobj(f_in, f_out)\n",
    "            \n",
    "download_and_gzip('mnist/train-images-idx3-ubyte')\n",
    "download_and_gzip('mnist/train-labels-idx1-ubyte')\n",
    "download_and_gzip('mnist/t10k-images-idx3-ubyte')\n",
    "download_and_gzip('mnist/t10k-labels-idx1-ubyte')"
   ]
  },
  {
   "cell_type": "code",
   "execution_count": 50,
   "metadata": {},
   "outputs": [],
   "source": [
    "%run download_mnist.py"
   ]
  },
  {
   "cell_type": "code",
   "execution_count": 51,
   "metadata": {},
   "outputs": [
    {
     "name": "stdout",
     "output_type": "stream",
     "text": [
      "Writing load.py\n"
     ]
    }
   ],
   "source": [
    "%%file load.py\n",
    "import numpy as np\n",
    "import os\n",
    "\n",
    "datasets_dir = './'\n",
    "\n",
    "def one_hot(x,n):\n",
    "\tif type(x) == list:\n",
    "\t\tx = np.array(x)\n",
    "\tx = x.flatten()\n",
    "\to_h = np.zeros((len(x),n))\n",
    "\to_h[np.arange(len(x)),x] = 1\n",
    "\treturn o_h\n",
    "\n",
    "def mnist(ntrain=60000,ntest=10000,onehot=True):\n",
    "\tdata_dir = os.path.join(datasets_dir,'mnist/')\n",
    "\tfd = open(os.path.join(data_dir,'train-images-idx3-ubyte'))\n",
    "\tloaded = np.fromfile(file=fd,dtype=np.uint8)\n",
    "\ttrX = loaded[16:].reshape((60000,28*28)).astype(float)\n",
    "\n",
    "\tfd = open(os.path.join(data_dir,'train-labels-idx1-ubyte'))\n",
    "\tloaded = np.fromfile(file=fd,dtype=np.uint8)\n",
    "\ttrY = loaded[8:].reshape((60000))\n",
    "\n",
    "\tfd = open(os.path.join(data_dir,'t10k-images-idx3-ubyte'))\n",
    "\tloaded = np.fromfile(file=fd,dtype=np.uint8)\n",
    "\tteX = loaded[16:].reshape((10000,28*28)).astype(float)\n",
    "\n",
    "\tfd = open(os.path.join(data_dir,'t10k-labels-idx1-ubyte'))\n",
    "\tloaded = np.fromfile(file=fd,dtype=np.uint8)\n",
    "\tteY = loaded[8:].reshape((10000))\n",
    "\n",
    "\ttrX = trX/255.\n",
    "\tteX = teX/255.\n",
    "\n",
    "\ttrX = trX[:ntrain]\n",
    "\ttrY = trY[:ntrain]\n",
    "\n",
    "\tteX = teX[:ntest]\n",
    "\tteY = teY[:ntest]\n",
    "\n",
    "\tif onehot:\n",
    "\t\ttrY = one_hot(trY, 10)\n",
    "\t\tteY = one_hot(teY, 10)\n",
    "\telse:\n",
    "\t\ttrY = np.asarray(trY)\n",
    "\t\tteY = np.asarray(teY)\n",
    "\n",
    "\treturn trX,teX,trY,teY"
   ]
  },
  {
   "cell_type": "code",
   "execution_count": 52,
   "metadata": {},
   "outputs": [
    {
     "name": "stdout",
     "output_type": "stream",
     "text": [
      "(3, 4)\n",
      "[ 1.  1.  1.]\n"
     ]
    }
   ],
   "source": [
    "from load import mnist\n",
    "\n",
    "def floatX(X):\n",
    "    return np.asarray(X, dtype=theano.config.floatX)\n",
    "\n",
    "def init_weights(shape):\n",
    "    return theano.shared(floatX(np.random.randn(*shape) * 0.01))\n",
    "\n",
    "A = T.matrix()\n",
    "\n",
    "B = T.nnet.softmax(A)\n",
    "\n",
    "test_softmax = theano.function([A], B)\n",
    "\n",
    "a = floatX(np.random.rand(3, 4))\n",
    "\n",
    "b = test_softmax(a)\n",
    "\n",
    "print(b.shape)\n",
    "\n",
    "# 行和\n",
    "print(b.sum(1))"
   ]
  },
  {
   "cell_type": "code",
   "execution_count": 53,
   "metadata": {
    "collapsed": true
   },
   "outputs": [],
   "source": [
    "def model(X, w):\n",
    "    return T.nnet.softmax(T.dot(X, w))\n",
    "\n",
    "trX, teX, trY, teY = mnist(onehot=True)\n",
    "\n",
    "X = T.fmatrix()\n",
    "Y = T.fmatrix()\n",
    "\n",
    "w = init_weights((784, 10))\n",
    "\n",
    "py_x = model(X, w)\n",
    "y_pred = T.argmax(py_x, axis=1)\n",
    "\n",
    "# 损失函数为多类的交叉熵，这个在 theano 中也被定义好了：\n",
    "cost = T.mean(T.nnet.categorical_crossentropy(py_x, Y))\n",
    "gradient = T.grad(cost=cost, wrt=w)\n",
    "update = [[w, w - gradient * 0.05]]\n",
    "\n",
    "train = theano.function(inputs=[X, Y], outputs=cost, updates=update, allow_input_downcast=True)\n",
    "predict = theano.function(inputs=[X], outputs=y_pred, allow_input_downcast=True)"
   ]
  },
  {
   "cell_type": "code",
   "execution_count": 54,
   "metadata": {},
   "outputs": [
    {
     "name": "stdout",
     "output_type": "stream",
     "text": [
      "000 0.8857\n",
      "001 0.8977\n",
      "002 0.9045\n",
      "003 0.9074\n",
      "004 0.9099\n",
      "005 0.9111\n",
      "006 0.9135\n",
      "007 0.9143\n",
      "008 0.9151\n",
      "009 0.9159\n",
      "010 0.9164\n",
      "011 0.9167\n",
      "012 0.9169\n",
      "013 0.9172\n",
      "014 0.9177\n",
      "015 0.9177\n",
      "016 0.9182\n",
      "017 0.9188\n",
      "018 0.919\n",
      "019 0.919\n",
      "020 0.9197\n",
      "021 0.9199\n",
      "022 0.9199\n",
      "023 0.9204\n",
      "024 0.9205\n",
      "025 0.9205\n",
      "026 0.9209\n",
      "027 0.9211\n",
      "028 0.9211\n",
      "029 0.9214\n",
      "030 0.9213\n",
      "031 0.9216\n",
      "032 0.9215\n",
      "033 0.9218\n",
      "034 0.9219\n",
      "035 0.9218\n",
      "036 0.9217\n",
      "037 0.9218\n",
      "038 0.9221\n",
      "039 0.9222\n",
      "040 0.9223\n",
      "041 0.9225\n",
      "042 0.9225\n",
      "043 0.9225\n",
      "044 0.9224\n",
      "045 0.9225\n",
      "046 0.9225\n",
      "047 0.9224\n",
      "048 0.923\n",
      "049 0.9231\n",
      "050 0.9233\n",
      "051 0.9235\n",
      "052 0.9236\n",
      "053 0.9236\n",
      "054 0.9236\n",
      "055 0.9235\n",
      "056 0.9236\n",
      "057 0.9239\n",
      "058 0.9241\n",
      "059 0.9241\n",
      "060 0.9242\n",
      "061 0.9242\n",
      "062 0.9242\n",
      "063 0.9242\n",
      "064 0.9245\n",
      "065 0.9245\n",
      "066 0.9245\n",
      "067 0.9243\n",
      "068 0.9244\n",
      "069 0.9243\n",
      "070 0.9245\n",
      "071 0.9244\n",
      "072 0.9245\n",
      "073 0.9244\n",
      "074 0.9245\n",
      "075 0.9244\n",
      "076 0.9243\n",
      "077 0.9244\n",
      "078 0.9244\n",
      "079 0.9243\n",
      "080 0.9243\n",
      "081 0.9247\n",
      "082 0.9248\n",
      "083 0.9248\n",
      "084 0.9248\n",
      "085 0.9248\n",
      "086 0.9246\n",
      "087 0.9246\n",
      "088 0.9246\n",
      "089 0.9246\n",
      "090 0.9247\n",
      "091 0.9248\n",
      "092 0.9248\n",
      "093 0.9251\n",
      "094 0.925\n",
      "095 0.925\n",
      "096 0.925\n",
      "097 0.925\n",
      "098 0.9249\n",
      "099 0.9248\n"
     ]
    }
   ],
   "source": [
    "for i in range(100):\n",
    "    for start, end in zip(range(0, len(trX), 128), range(128, len(trX), 128)):\n",
    "        cost = train(trX[start:end], trY[start:end])\n",
    "    print(\"{0:03d}\".format(i), np.mean(np.argmax(teY, axis=1) == predict(teX)))"
   ]
  },
  {
   "cell_type": "markdown",
   "metadata": {},
   "source": [
    "## ANN(人工神经网络)"
   ]
  },
  {
   "cell_type": "markdown",
   "metadata": {},
   "source": [
    "我们在这里使用一个简单的三层神经网络：输入 - 隐层 - 输出。\n",
    "\n",
    "对于网络的激活函数，隐层用sigmoid函数，输出层用softmax函数，其模型如下：\n",
    "\n",
    "$$ \n",
    "\\begin{aligned}\n",
    "    h &= \\sigma (W_h X) \\\\\n",
    "    o &= \\text{softmax} (W_o h)\n",
    "\\end{aligned}\n",
    "$$"
   ]
  },
  {
   "cell_type": "code",
   "execution_count": 55,
   "metadata": {},
   "outputs": [],
   "source": [
    "def model(X, w_h, w_o):\n",
    "    \"\"\"\n",
    "    input:\n",
    "        X: input data\n",
    "        w_h: hidden unit weights\n",
    "        w_o: output unit weights\n",
    "    output:\n",
    "        Y: probability of y given x\n",
    "    \"\"\"\n",
    "    # 隐层\n",
    "    h = T.nnet.sigmoid(T.dot(X, w_h))\n",
    "    # 输出层\n",
    "    pyx = T.nnet.softmax(T.dot(h, w_o))\n",
    "    return pyx\n",
    "\n",
    "def sgd(cost, params, lr=0.05):\n",
    "    \"\"\"\n",
    "    input:\n",
    "        cost: cost function\n",
    "        params: parameters\n",
    "        lr: learning rate\n",
    "    output:\n",
    "        update rules\n",
    "    \"\"\"\n",
    "    grads = T.grad(cost=cost, wrt=params)\n",
    "    updates = []\n",
    "    for p, g in zip(params, grads):\n",
    "        updates.append([p, p - g * lr])\n",
    "    return updates\n",
    "\n",
    "def floatX(X):\n",
    "    return np.asarray(X, dtype=theano.config.floatX)\n",
    "\n",
    "def init_weights(shape):\n",
    "    return theano.shared(floatX(np.random.randn(*shape) * 0.01))\n",
    "\n",
    "X = T.matrix()\n",
    "Y = T.matrix()\n",
    "\n",
    "w_h = init_weights((784, 625))\n",
    "w_o = init_weights((625, 10))\n",
    "\n",
    "py_x = model(X, w_h, w_o)\n",
    "y_x = T.argmax(py_x, axis=1)\n",
    "\n",
    "cost = T.mean(T.nnet.categorical_crossentropy(py_x, Y))\n",
    "updates = sgd(cost, [w_h, w_o])\n",
    "\n",
    "train = theano.function(inputs=[X, Y], outputs=cost, updates=updates, allow_input_downcast=True)\n",
    "predict = theano.function(inputs=[X], outputs=y_x, allow_input_downcast=True)\n",
    "\n",
    "trX, teX, trY, teY = mnist(onehot=True)"
   ]
  },
  {
   "cell_type": "code",
   "execution_count": 57,
   "metadata": {},
   "outputs": [
    {
     "name": "stdout",
     "output_type": "stream",
     "text": [
      "000 0.7079\n",
      "001 0.829\n",
      "002 0.8671\n",
      "003 0.8831\n",
      "004 0.8894\n",
      "005 0.8954\n",
      "006 0.8981\n",
      "007 0.9016\n",
      "008 0.9043\n",
      "009 0.9068\n",
      "010 0.9093\n",
      "011 0.9114\n",
      "012 0.9129\n",
      "013 0.9141\n",
      "014 0.9153\n",
      "015 0.9159\n",
      "016 0.9163\n",
      "017 0.917\n",
      "018 0.9176\n",
      "019 0.9184\n",
      "020 0.9188\n",
      "021 0.919\n",
      "022 0.9195\n",
      "023 0.9197\n",
      "024 0.9204\n",
      "025 0.9208\n",
      "026 0.921\n",
      "027 0.9217\n",
      "028 0.922\n",
      "029 0.9228\n",
      "030 0.9238\n",
      "031 0.9236\n",
      "032 0.9241\n",
      "033 0.9251\n",
      "034 0.9258\n",
      "035 0.9262\n",
      "036 0.9265\n",
      "037 0.9271\n",
      "038 0.9278\n",
      "039 0.9286\n",
      "040 0.9294\n",
      "041 0.9295\n",
      "042 0.9299\n",
      "043 0.93\n",
      "044 0.9304\n",
      "045 0.9307\n",
      "046 0.9317\n",
      "047 0.9322\n",
      "048 0.9331\n",
      "049 0.9334\n",
      "050 0.9338\n",
      "051 0.9352\n",
      "052 0.9359\n",
      "053 0.9366\n",
      "054 0.9374\n",
      "055 0.9379\n",
      "056 0.9385\n",
      "057 0.939\n",
      "058 0.9395\n",
      "059 0.9399\n",
      "060 0.9408\n",
      "061 0.9414\n",
      "062 0.9418\n",
      "063 0.9423\n",
      "064 0.9429\n",
      "065 0.9434\n",
      "066 0.944\n",
      "067 0.9447\n",
      "068 0.9451\n",
      "069 0.9457\n",
      "070 0.9464\n",
      "071 0.9464\n",
      "072 0.947\n",
      "073 0.9474\n",
      "074 0.9478\n",
      "075 0.9485\n",
      "076 0.9488\n",
      "077 0.9491\n",
      "078 0.95\n",
      "079 0.9507\n",
      "080 0.951\n",
      "081 0.9513\n",
      "082 0.9517\n",
      "083 0.952\n",
      "084 0.9527\n",
      "085 0.9535\n",
      "086 0.9536\n",
      "087 0.9543\n",
      "088 0.9545\n",
      "089 0.9548\n",
      "090 0.955\n",
      "091 0.9554\n",
      "092 0.9558\n",
      "093 0.9563\n",
      "094 0.9569\n",
      "095 0.9572\n",
      "096 0.9575\n",
      "097 0.9576\n",
      "098 0.9582\n",
      "099 0.9584\n"
     ]
    }
   ],
   "source": [
    "for i in range(100):\n",
    "    for start, end in zip(range(0, len(trX), 128), range(128, len(trX), 128)):\n",
    "        cost = train(trX[start:end], trY[start:end])\n",
    "    print(\"{0:03d}\".format(i), np.mean(np.argmax(teY, axis=1) == predict(teX)))"
   ]
  },
  {
   "cell_type": "markdown",
   "metadata": {},
   "source": [
    "## 更复杂的神经网络\n",
    "\n",
    "之前我们采用的的激活函数是 sigmoid，现在我们使用 rectify 激活函数。\n",
    "\n",
    "这可以使用 `T.nnet.relu(x, alpha=0)` 来实现，它本质上相当于：`T.switch(x > 0, x, alpha * x)`，而 rectify 函数的定义为：\n",
    "\n",
    "$$\n",
    "\\text{rectify}(x) = \\left\\{\n",
    "\\begin{aligned}\n",
    "x, & \\ x > 0 \\\\\n",
    "0, & \\ x < 0\n",
    "\\end{aligned}\\right.\n",
    "$$\n",
    "\n",
    "之前我们构造的是一个单隐层的神经网络结构，现在我们构造一个双隐层的结构即“输入-隐层1-隐层2-输出”的全连接结构。\n",
    "\n",
    "$$\n",
    "\\begin{aligned}\n",
    "& h_1 =  \\text{rectify}(W_{h_1} \\ x) \\\\\n",
    "& h_2 =  \\text{rectify}(W_{h_2} \\ h_1) \\\\\n",
    "& o =  \\text{softmax}(W_o h_2)\n",
    "\\end{aligned}\n",
    "$$\n",
    "\n",
    "Theano 自带的 `T.nnet.softmax()` 的 GPU 实现目前似乎有 bug 会导致梯度溢出的问题，因此自定义了 softmax 函数："
   ]
  },
  {
   "cell_type": "code",
   "execution_count": 58,
   "metadata": {
    "collapsed": true
   },
   "outputs": [],
   "source": [
    "def dropout(X, prob=0.):\n",
    "    if prob > 0:\n",
    "        X *= srng.binomial(X.shape, p=1-prob, dtype = theano.config.floatX)\n",
    "        X /= 1 - prob\n",
    "    return X\n",
    "\n",
    "def softmax(X):\n",
    "    e_x = T.exp(X - X.max(axis=1).dimshuffle(0, 'x'))\n",
    "    return e_x / e_x.sum(axis=1).dimshuffle(0, 'x')\n",
    "\n",
    "def model(X, w_h1, w_h2, w_o, p_drop_input, p_drop_hidden):\n",
    "    \"\"\"\n",
    "    input:\n",
    "        X:             input data\n",
    "        w_h1:          weights input layer to hidden layer 1\n",
    "        w_h2:          weights hidden layer 1 to hidden layer 2\n",
    "        w_o:           weights hidden layer 2 to output layer\n",
    "        p_drop_input:  dropout rate for input layer\n",
    "        p_drop_hidden: dropout rate for hidden layer\n",
    "    output:\n",
    "        h1:    hidden layer 1\n",
    "        h2:    hidden layer 2\n",
    "        py_x:  output layer\n",
    "    \"\"\"\n",
    "    X = dropout(X, p_drop_input)\n",
    "    h1 = T.nnet.relu(T.dot(X, w_h1))\n",
    "    \n",
    "    h1 = dropout(h1, p_drop_hidden)\n",
    "    h2 = T.nnet.relu(T.dot(h1, w_h2))\n",
    "    \n",
    "    h2 = dropout(h2, p_drop_hidden)\n",
    "    py_x = softmax(T.dot(h2, w_o))\n",
    "    return h1, h2, py_x\n",
    "\n",
    "def init_weights(shape):\n",
    "    return theano.shared(floatX(np.random.randn(*shape) * 0.01))\n",
    "\n",
    "w_h1 = init_weights((784, 625))\n",
    "w_h2 = init_weights((625, 625))\n",
    "w_o = init_weights((625, 10))\n",
    "\n",
    "\n",
    "X = T.matrix()\n",
    "Y = T.matrix()"
   ]
  },
  {
   "cell_type": "markdown",
   "metadata": {},
   "source": [
    "定义更新的规则，之前我们使用的是简单的 SGD，这次我们使用 RMSprop 来更新，其规则为：\n",
    "$$\n",
    "\\begin{align}\n",
    "MS(w, t) &= \\rho MS(w, t-1) + (1-\\rho) \\left(\\left.\\frac{\\partial E}{\\partial w}\\right|_{w(t-1)}\\right)^2 \\\\\n",
    "w(t) &= w(t-1) - \\alpha \\left.\\frac{\\partial E}{\\partial w}\\right|_{w(t-1)} / \\sqrt{MS(w, t)}\n",
    "\\end{align}\n",
    "$$"
   ]
  },
  {
   "cell_type": "code",
   "execution_count": 61,
   "metadata": {},
   "outputs": [],
   "source": [
    "from theano.sandbox.rng_mrg import MRG_RandomStreams as RandomStreams\n",
    "srng = RandomStreams()\n",
    "\n",
    "def RMSprop(cost, params, accs, lr=0.001, rho=0.9, epsilon=1e-6):\n",
    "    grads = T.grad(cost=cost, wrt=params)\n",
    "    updates = []\n",
    "    for p, g, acc in zip(params, grads, accs):\n",
    "        acc_new = rho * acc + (1 - rho) * g ** 2\n",
    "        gradient_scaling = T.sqrt(acc_new + epsilon)\n",
    "        g = g / gradient_scaling\n",
    "        updates.append((acc, acc_new))\n",
    "        updates.append((p, p - lr * g))\n",
    "    return updates\n",
    "\n",
    "# 有 dropout，用来训练\n",
    "noise_h1, noise_h2, noise_py_x = model(X, w_h1, w_h2, w_o, 0.2, 0.5)\n",
    "cost = T.mean(T.nnet.categorical_crossentropy(noise_py_x, Y))\n",
    "params = [w_h1, w_h2, w_o]\n",
    "accs = [theano.shared(p.get_value() * 0.) for p in params]\n",
    "updates = RMSprop(cost, params, accs, lr=0.001)\n",
    "# 训练函数\n",
    "train = theano.function(inputs=[X, Y], outputs=cost, updates=updates, allow_input_downcast=True)\n",
    "\n",
    "# 没有 dropout，用来预测\n",
    "h1, h2, py_x = model(X, w_h1, w_h2, w_o, 0., 0.)\n",
    "# 预测的结果\n",
    "y_x = T.argmax(py_x, axis=1)\n",
    "predict = theano.function(inputs=[X], outputs=y_x, allow_input_downcast=True)"
   ]
  },
  {
   "cell_type": "code",
   "execution_count": 62,
   "metadata": {},
   "outputs": [
    {
     "name": "stdout",
     "output_type": "stream",
     "text": [
      "iter 001 accuracy: 0.9412\n",
      "iter 002 accuracy: 0.9633\n",
      "iter 003 accuracy: 0.9721\n",
      "iter 004 accuracy: 0.9745\n",
      "iter 005 accuracy: 0.9741\n",
      "iter 006 accuracy: 0.9775\n",
      "iter 007 accuracy: 0.9762\n",
      "iter 008 accuracy: 0.981\n",
      "iter 009 accuracy: 0.9808\n",
      "iter 010 accuracy: 0.9808\n",
      "iter 011 accuracy: 0.9818\n",
      "iter 012 accuracy: 0.9828\n",
      "iter 013 accuracy: 0.9832\n",
      "iter 014 accuracy: 0.9844\n",
      "iter 015 accuracy: 0.984\n",
      "iter 016 accuracy: 0.9826\n",
      "iter 017 accuracy: 0.984\n",
      "iter 018 accuracy: 0.9852\n",
      "iter 019 accuracy: 0.9842\n",
      "iter 020 accuracy: 0.9853\n",
      "iter 021 accuracy: 0.9844\n",
      "iter 022 accuracy: 0.9843\n",
      "iter 023 accuracy: 0.9846\n",
      "iter 024 accuracy: 0.9862\n",
      "iter 025 accuracy: 0.9846\n",
      "iter 026 accuracy: 0.9854\n",
      "iter 027 accuracy: 0.9855\n",
      "iter 028 accuracy: 0.9858\n",
      "iter 029 accuracy: 0.9869\n",
      "iter 030 accuracy: 0.9872\n",
      "iter 031 accuracy: 0.9854\n",
      "iter 032 accuracy: 0.9852\n",
      "iter 033 accuracy: 0.9851\n",
      "iter 034 accuracy: 0.9874\n",
      "iter 035 accuracy: 0.9857\n",
      "iter 036 accuracy: 0.9857\n",
      "iter 037 accuracy: 0.9851\n",
      "iter 038 accuracy: 0.986\n",
      "iter 039 accuracy: 0.986\n",
      "iter 040 accuracy: 0.9855\n",
      "iter 041 accuracy: 0.9865\n",
      "iter 042 accuracy: 0.9857\n",
      "iter 043 accuracy: 0.9862\n",
      "iter 044 accuracy: 0.9859\n",
      "iter 045 accuracy: 0.9873\n",
      "iter 046 accuracy: 0.9856\n",
      "iter 047 accuracy: 0.988\n",
      "iter 048 accuracy: 0.9878\n",
      "iter 049 accuracy: 0.987\n",
      "iter 050 accuracy: 0.988\n"
     ]
    }
   ],
   "source": [
    "trX, teX, trY, teY = mnist(onehot=True)\n",
    "\n",
    "for i in range(50):\n",
    "    for start, end in zip(range(0, len(trX), 128), range(128, len(trX), 128)):\n",
    "        cost = train(trX[start:end], trY[start:end])\n",
    "    print(\"iter {:03d} accuracy:\".format(i + 1), np.mean(np.argmax(teY, axis=1) == predict(teX)))"
   ]
  },
  {
   "cell_type": "markdown",
   "metadata": {},
   "source": [
    "清理文件"
   ]
  },
  {
   "cell_type": "code",
   "execution_count": 77,
   "metadata": {
    "collapsed": true
   },
   "outputs": [],
   "source": [
    "import os\n",
    "import shutil\n",
    "os.remove(\"download_mnist.py\")\n",
    "os.remove(\"load.py\")\n",
    "shutil.rmtree(\"mnist\")"
   ]
  },
  {
   "cell_type": "code",
   "execution_count": 74,
   "metadata": {},
   "outputs": [],
   "source": [
    "from theano.tensor.nnet import conv2d\n",
    "from theano.tensor.signal import pool\n",
    "\n",
    "trX, teX, trY, teY = mnist(onehot=True)\n",
    "\n",
    "trX = trX.reshape(-1, 1, 28, 28)\n",
    "teX = teX.reshape(-1, 1, 28, 28)\n",
    "\n",
    "def model(X, w, w2, w3, w4, p_drop_conv, p_drop_hidden):\n",
    "    \n",
    "    # X:  128 * 1 * 28 * 28\n",
    "    # w:  32 * 1 * 3 * 3\n",
    "    # full mode\n",
    "    # l1a: 128 * 32 * (28 + 3 - 1) * (28 + 3 - 1)\n",
    "    l1a = rectify(conv2d(X, w, border_mode='full'))\n",
    "    # l1a: 128 * 32 * 30 * 30\n",
    "    # ignore_border False\n",
    "    # l1:  128 * 32 * (30 / 2) * (30 / 2)\n",
    "    l1 = pool.pool_2d(l1a, (2, 2), ignore_border=False)\n",
    "    l1 = dropout(l1, p_drop_conv)\n",
    "\n",
    "    # l1:  128 * 32 * 15 * 15\n",
    "    # w2:  64 * 32 * 3 * 3\n",
    "    # valid mode\n",
    "    # l2a: 128 * 64 * (15 - 3 + 1) * (15 - 3 + 1)\n",
    "    l2a = rectify(conv2d(l1, w2))    \n",
    "    # l2a: 128 * 64 * 13 * 13\n",
    "    # l2:  128 * 64 * (13 / 2 + 1) * (13 / 2 + 1)\n",
    "    l2 = pool.pool_2d(l2a, (2, 2), ignore_border=False)\n",
    "    l2 = dropout(l2, p_drop_conv)\n",
    "\n",
    "    # l2:  128 * 64 * 7 * 7\n",
    "    # w3:  128 * 64 * 3 * 3\n",
    "    # l3a: 128 * 128 * (7 - 3 + 1) * (7 - 3 + 1)\n",
    "    l3a = rectify(conv2d(l2, w3))\n",
    "    # l3a: 128 * 128 * 5 * 5\n",
    "    # l3b: 128 * 128 * (5 / 2 + 1) * (5 / 2 + 1)\n",
    "    l3b = pool.pool_2d(l3a, (2, 2), ignore_border=False)    \n",
    "    # l3b: 128 * 128 * 3 * 3\n",
    "    # l3:  128 * (128 * 3 * 3)\n",
    "    l3 = T.flatten(l3b, outdim=2)\n",
    "    l3 = dropout(l3, p_drop_conv)\n",
    "    \n",
    "    # l3: 128 * (128 * 3 * 3)\n",
    "    # w4: (128 * 3 * 3) * 625\n",
    "    # l4: 128 * 625\n",
    "    l4 = rectify(T.dot(l3, w4))\n",
    "    l4 = dropout(l4, p_drop_hidden)\n",
    "\n",
    "    # l5:  128 * 625\n",
    "    # w5:  625 * 10\n",
    "    # pyx: 128 * 10\n",
    "    pyx = softmax(T.dot(l4, w_o))\n",
    "    return l1, l2, l3, l4, pyx"
   ]
  },
  {
   "cell_type": "code",
   "execution_count": 75,
   "metadata": {
    "collapsed": true
   },
   "outputs": [],
   "source": [
    "X = T.ftensor4()\n",
    "Y = T.fmatrix()\n",
    "\n",
    "w = init_weights((32, 1, 3, 3))\n",
    "w2 = init_weights((64, 32, 3, 3))\n",
    "w3 = init_weights((128, 64, 3, 3))\n",
    "w4 = init_weights((128 * 3 * 3, 625))\n",
    "w_o = init_weights((625, 10))"
   ]
  },
  {
   "cell_type": "code",
   "execution_count": 78,
   "metadata": {},
   "outputs": [
    {
     "name": "stdout",
     "output_type": "stream",
     "text": [
      "Theano Examples\n"
     ]
    }
   ],
   "source": [
    "print(\"Theano Examples\")"
   ]
  },
  {
   "cell_type": "code",
   "execution_count": null,
   "metadata": {
    "collapsed": true
   },
   "outputs": [],
   "source": []
  }
 ],
 "metadata": {
  "kernelspec": {
   "display_name": "Python 3",
   "language": "python",
   "name": "python3"
  },
  "language_info": {
   "codemirror_mode": {
    "name": "ipython",
    "version": 3
   },
   "file_extension": ".py",
   "mimetype": "text/x-python",
   "name": "python",
   "nbconvert_exporter": "python",
   "pygments_lexer": "ipython3",
   "version": "3.6.3"
  }
 },
 "nbformat": 4,
 "nbformat_minor": 2
}
